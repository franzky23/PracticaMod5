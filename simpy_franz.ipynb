{
 "cells": [
  {
   "cell_type": "markdown",
   "metadata": {},
   "source": [
    "## para instalar simpy"
   ]
  },
  {
   "cell_type": "code",
   "execution_count": 2,
   "metadata": {},
   "outputs": [
    {
     "name": "stdout",
     "output_type": "stream",
     "text": [
      "Requirement already satisfied: simpy in c:\\programdata\\anaconda3\\lib\\site-packages (3.0.11)\n",
      "Note: you may need to restart the kernel to use updated packages.\n"
     ]
    }
   ],
   "source": [
    "pip install simpy"
   ]
  },
  {
   "cell_type": "code",
   "execution_count": 3,
   "metadata": {},
   "outputs": [
    {
     "name": "stdout",
     "output_type": "stream",
     "text": [
      "Collecting progress\n",
      "  Downloading https://files.pythonhosted.org/packages/38/ef/2e887b3d2b248916fc2121889ce68af8a16aaddbe82f9ae6533c24ff0d2b/progress-1.5.tar.gz\n",
      "Building wheels for collected packages: progress\n",
      "  Building wheel for progress (setup.py): started\n",
      "  Building wheel for progress (setup.py): finished with status 'done'\n",
      "  Created wheel for progress: filename=progress-1.5-cp37-none-any.whl size=8080 sha256=6360769d7cf8088a4f38aed3d37eafa3bb90a4a74f18dac3fb48b985be2c860f\n",
      "  Stored in directory: C:\\Users\\franzky\\AppData\\Local\\pip\\Cache\\wheels\\6c\\c8\\80\\32a294e3041f006c661838c05a411c7b7ffc60ff939d14e116\n",
      "Successfully built progress\n",
      "Installing collected packages: progress\n",
      "Successfully installed progress-1.5\n",
      "Note: you may need to restart the kernel to use updated packages.\n"
     ]
    }
   ],
   "source": [
    "pip install progress"
   ]
  },
  {
   "cell_type": "markdown",
   "metadata": {},
   "source": [
    "Modelamos un banco simple con clientes que llegan al azar. Desarrollamos el modelo paso a paso, comenzando de manera simple y produciendo un programa en ejecución en cada etapa"
   ]
  },
  {
   "cell_type": "markdown",
   "metadata": {},
   "source": [
    "## simulando que un cliente llega a una hora\n",
    "Primero modelamos a un solo cliente que llega al banco para una visita, mira la decoración por un momento y luego se va. No hay colas. Primero asumiremos su hora de llegada y el tiempo que pasa en el banco son fijos."
   ]
  },
  {
   "cell_type": "code",
   "execution_count": 93,
   "metadata": {},
   "outputs": [],
   "source": [
    "import simpy as sp \n",
    "def persona ( env ):\n",
    "     \n",
    "        print ( 'aqui stoy  %d ' % env . now )\n",
    "        timeInBank = 1.5\n",
    "        yield env . timeout ( timeInBank )\n",
    "        print ( 'debo irme  %d ' % env . now )\n",
    "        timeInBank = 5\n",
    "       ## yield env . timeout ( timeInBank )"
   ]
  },
  {
   "cell_type": "code",
   "execution_count": 94,
   "metadata": {},
   "outputs": [
    {
     "name": "stdout",
     "output_type": "stream",
     "text": [
      "aqui stoy  0 \n",
      "debo irme  1 \n"
     ]
    }
   ],
   "source": [
    "env = sp.Environment()\n",
    "env.process(persona(env))\n",
    "env.run(until=15)"
   ]
  },
  {
   "cell_type": "markdown",
   "metadata": {},
   "source": [
    "fuente\n",
    "\n",
    "vignaux de users.sourceforge.net"
   ]
  },
  {
   "cell_type": "code",
   "execution_count": null,
   "metadata": {},
   "outputs": [],
   "source": []
  }
 ],
 "metadata": {
  "kernelspec": {
   "display_name": "Python 3",
   "language": "python",
   "name": "python3"
  },
  "language_info": {
   "codemirror_mode": {
    "name": "ipython",
    "version": 3
   },
   "file_extension": ".py",
   "mimetype": "text/x-python",
   "name": "python",
   "nbconvert_exporter": "python",
   "pygments_lexer": "ipython3",
   "version": "3.7.5"
  }
 },
 "nbformat": 4,
 "nbformat_minor": 4
}
