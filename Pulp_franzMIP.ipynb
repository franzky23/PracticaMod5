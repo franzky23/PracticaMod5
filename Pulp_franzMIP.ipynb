{
 "cells": [
  {
   "cell_type": "markdown",
   "metadata": {},
   "source": [
    "## ejercico de PULP"
   ]
  },
  {
   "cell_type": "markdown",
   "metadata": {},
   "source": [
    "Problema de recursos\n",
    "Estamos consultando a un fabricante de automóviles, que produce automóviles de lujo.\n",
    "\n",
    "Se ejecutan en ciclos de un mes (30 días), tenemos un ciclo para demostrar que podemos proporcionar valor.\n",
    "\n",
    "Hay un robot, 2 ingenieros y un detailer en la fábrica. El detailer tiene algunas vacaciones libres, por lo que solo tiene 21 días disponibles.\n",
    "\n",
    "Los 2 autos necesitan un tiempo diferente con cada recurso:\n",
    "\n",
    "## Tiempo de robot: Auto A - 3 días; Auto B - 4 días.\n",
    "\n",
    "## Tiempo de ingeniero: Auto A - 5 días; Auto B - 6 días.\n",
    "\n",
    "## Tiempo del detailer: Auto A - 1.5 días; Auto B - 3 días.\n",
    "\n",
    "El automóvil A ofrece ganancias de € 30,000, mientras que el automóvil B ofrece ganancias de € 45,000.\n",
    "\n",
    "Por el momento, producen 4 de cada automóvil por mes, con una ganancia de € 300,000. No está mal, pero creemos que podemos hacerlo mejor por ellos.\n",
    "\n",
    "Esto se puede modelar de la siguiente manera:"
   ]
  },
  {
   "cell_type": "markdown",
   "metadata": {},
   "source": [
    "## maxisimizar \n",
    "### Profit=30,000A+45,000B\n",
    "## datos\n",
    "### A≥0\n",
    "### B≥0\n",
    "### 3A+4B≤30\n",
    "### 5A+6B≤60\n",
    "### 1.5A+3B≤21"
   ]
  },
  {
   "cell_type": "code",
   "execution_count": 1,
   "metadata": {},
   "outputs": [],
   "source": [
    "import pulp\n",
    "model = pulp.LpProblem(\"Profit Maximizar\", pulp.LpMaximize)"
   ]
  },
  {
   "cell_type": "code",
   "execution_count": 2,
   "metadata": {},
   "outputs": [],
   "source": [
    "A = pulp.LpVariable('A', lowBound=0, cat='Integer')\n",
    "B = pulp.LpVariable('B', lowBound=0, cat='Integer')"
   ]
  },
  {
   "cell_type": "code",
   "execution_count": 3,
   "metadata": {},
   "outputs": [],
   "source": [
    "# funccion objetivo\n",
    "model += 30000 * A + 45000 * B, \"Profit\"\n",
    "\n",
    "#\n",
    "model += 3 * A + 4 * B <= 30\n",
    "model += 5 * A + 6 * B <= 60\n",
    "model += 1.5 * A + 3 * B <= 21"
   ]
  },
  {
   "cell_type": "code",
   "execution_count": 4,
   "metadata": {},
   "outputs": [
    {
     "data": {
      "text/plain": [
       "'Optimal'"
      ]
     },
     "execution_count": 4,
     "metadata": {},
     "output_type": "execute_result"
    }
   ],
   "source": [
    "# resolucion del problema\n",
    "model.solve()\n",
    "pulp.LpStatus[model.status]"
   ]
  },
  {
   "cell_type": "code",
   "execution_count": 21,
   "metadata": {},
   "outputs": [
    {
     "name": "stdout",
     "output_type": "stream",
     "text": [
      "Production of Car A = 2.0\n",
      "Production of Car B = 6.0\n"
     ]
    }
   ],
   "source": [
    "#Imprime nuestros valores de variables de decisión\n",
    "print ('Production of Car A = {}'.format(A.varValue))\n",
    "print ('Production of Car B = {}'.format(B.varValue))"
   ]
  },
  {
   "cell_type": "code",
   "execution_count": 24,
   "metadata": {},
   "outputs": [
    {
     "name": "stdout",
     "output_type": "stream",
     "text": [
      "330000.0\n"
     ]
    }
   ],
   "source": [
    "# imprimiendo nuestro valor de función objetivo\n",
    "print (pulp.value(model.objective))"
   ]
  },
  {
   "cell_type": "markdown",
   "metadata": {},
   "source": [
    "# Conclusión"
   ]
  },
  {
   "cell_type": "markdown",
   "metadata": {},
   "source": [
    "Eso es un beneficio mensual de € 330,000, comparado con su beneficio mensual original de € 300,000\n",
    "\n",
    "Al producir 2 automóviles del automóvil A y 4 automóviles del automóvil B, aumentamos las ganancias en la fábrica en € 30,000 por mes.\n",
    "\n",
    "Tomamos nuestra tarifa de consultoría y dejamos a la compañía con una ganancia adicional de 360,000 € para la fábrica cada año."
   ]
  }
 ],
 "metadata": {
  "kernelspec": {
   "display_name": "Python 3",
   "language": "python",
   "name": "python3"
  },
  "language_info": {
   "codemirror_mode": {
    "name": "ipython",
    "version": 3
   },
   "file_extension": ".py",
   "mimetype": "text/x-python",
   "name": "python",
   "nbconvert_exporter": "python",
   "pygments_lexer": "ipython3",
   "version": "3.7.5"
  }
 },
 "nbformat": 4,
 "nbformat_minor": 4
}
